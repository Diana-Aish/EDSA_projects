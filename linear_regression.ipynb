{
  "nbformat": 4,
  "nbformat_minor": 0,
  "metadata": {
    "colab": {
      "name": "Copy of linear_regression.ipynb",
      "provenance": [],
      "authorship_tag": "ABX9TyOPKlhv2xZ+kkWGHgJPwIAt",
      "include_colab_link": true
    },
    "kernelspec": {
      "name": "python3",
      "display_name": "Python 3"
    },
    "language_info": {
      "name": "python"
    }
  },
  "cells": [
    {
      "cell_type": "markdown",
      "metadata": {
        "id": "view-in-github",
        "colab_type": "text"
      },
      "source": [
        "<a href=\"https://colab.research.google.com/github/Diana-Aish/EDSA_projects/blob/main/linear_regression.ipynb\" target=\"_parent\"><img src=\"https://colab.research.google.com/assets/colab-badge.svg\" alt=\"Open In Colab\"/></a>"
      ]
    },
    {
      "cell_type": "code",
      "metadata": {
        "id": "UIfjEVSZSmH8"
      },
      "source": [
        "import pandas as pd\n",
        "import numpy as np\n",
        "import seaborn as sns\n",
        "import matplotlib.pyplot as plt\n",
        "from sklearn import linear_model\n",
        "from sklearn.linear_model import LinearRegression"
      ],
      "execution_count": null,
      "outputs": []
    },
    {
      "cell_type": "code",
      "metadata": {
        "id": "BlwO9pzxSoRt"
      },
      "source": [
        "# Here is the url provided for you\n",
        "url = \"https://raw.githubusercontent.com/DrSaadLa/PythonTuts/main/Data/gapminder.csv\""
      ],
      "execution_count": null,
      "outputs": []
    },
    {
      "cell_type": "code",
      "metadata": {
        "id": "cPECJjG2Srdv"
      },
      "source": [
        "# use pd.read_csv() to import the data\n",
        "gapminder=pd.read_csv(url)"
      ],
      "execution_count": null,
      "outputs": []
    },
    {
      "cell_type": "code",
      "metadata": {
        "id": "gLUcH-K8SrjC"
      },
      "source": [
        "# use pd.read_csv() to import the data\n",
        "gapminder=pd.read_csv(url)"
      ],
      "execution_count": null,
      "outputs": []
    },
    {
      "cell_type": "code",
      "metadata": {
        "colab": {
          "base_uri": "https://localhost:8080/",
          "height": 204
        },
        "id": "ab482qtsSrlx",
        "outputId": "e9edea30-41b3-41cf-86ca-ef22823e4bff"
      },
      "source": [
        "# Check the last few obs\n",
        "gapminder.tail()"
      ],
      "execution_count": null,
      "outputs": [
        {
          "output_type": "execute_result",
          "data": {
            "text/html": [
              "<div>\n",
              "<style scoped>\n",
              "    .dataframe tbody tr th:only-of-type {\n",
              "        vertical-align: middle;\n",
              "    }\n",
              "\n",
              "    .dataframe tbody tr th {\n",
              "        vertical-align: top;\n",
              "    }\n",
              "\n",
              "    .dataframe thead th {\n",
              "        text-align: right;\n",
              "    }\n",
              "</style>\n",
              "<table border=\"1\" class=\"dataframe\">\n",
              "  <thead>\n",
              "    <tr style=\"text-align: right;\">\n",
              "      <th></th>\n",
              "      <th>population</th>\n",
              "      <th>fertility</th>\n",
              "      <th>HIV</th>\n",
              "      <th>CO2</th>\n",
              "      <th>BMI_male</th>\n",
              "      <th>GDP</th>\n",
              "      <th>BMI_female</th>\n",
              "      <th>life</th>\n",
              "      <th>child_mortality</th>\n",
              "      <th>Region</th>\n",
              "    </tr>\n",
              "  </thead>\n",
              "  <tbody>\n",
              "    <tr>\n",
              "      <th>134</th>\n",
              "      <td>3350832.0</td>\n",
              "      <td>2.11</td>\n",
              "      <td>0.5</td>\n",
              "      <td>2.489764</td>\n",
              "      <td>26.39123</td>\n",
              "      <td>15317.0</td>\n",
              "      <td>124.2604</td>\n",
              "      <td>76.0</td>\n",
              "      <td>13.0</td>\n",
              "      <td>America</td>\n",
              "    </tr>\n",
              "    <tr>\n",
              "      <th>135</th>\n",
              "      <td>26952719.0</td>\n",
              "      <td>2.46</td>\n",
              "      <td>0.1</td>\n",
              "      <td>4.476669</td>\n",
              "      <td>25.32054</td>\n",
              "      <td>3733.0</td>\n",
              "      <td>124.3462</td>\n",
              "      <td>68.7</td>\n",
              "      <td>49.2</td>\n",
              "      <td>Europe &amp; Central Asia</td>\n",
              "    </tr>\n",
              "    <tr>\n",
              "      <th>136</th>\n",
              "      <td>86589342.0</td>\n",
              "      <td>1.86</td>\n",
              "      <td>0.4</td>\n",
              "      <td>1.479347</td>\n",
              "      <td>20.91630</td>\n",
              "      <td>4085.0</td>\n",
              "      <td>121.9367</td>\n",
              "      <td>75.4</td>\n",
              "      <td>26.2</td>\n",
              "      <td>East Asia &amp; Pacific</td>\n",
              "    </tr>\n",
              "    <tr>\n",
              "      <th>137</th>\n",
              "      <td>13114579.0</td>\n",
              "      <td>5.88</td>\n",
              "      <td>13.6</td>\n",
              "      <td>0.148982</td>\n",
              "      <td>20.68321</td>\n",
              "      <td>3039.0</td>\n",
              "      <td>132.4493</td>\n",
              "      <td>52.0</td>\n",
              "      <td>94.9</td>\n",
              "      <td>Sub-Saharan Africa</td>\n",
              "    </tr>\n",
              "    <tr>\n",
              "      <th>138</th>\n",
              "      <td>13495462.0</td>\n",
              "      <td>3.85</td>\n",
              "      <td>15.1</td>\n",
              "      <td>0.654323</td>\n",
              "      <td>22.02660</td>\n",
              "      <td>1286.0</td>\n",
              "      <td>131.9745</td>\n",
              "      <td>49.0</td>\n",
              "      <td>98.3</td>\n",
              "      <td>Sub-Saharan Africa</td>\n",
              "    </tr>\n",
              "  </tbody>\n",
              "</table>\n",
              "</div>"
            ],
            "text/plain": [
              "     population  fertility   HIV  ...  life  child_mortality                 Region\n",
              "134   3350832.0       2.11   0.5  ...  76.0             13.0                America\n",
              "135  26952719.0       2.46   0.1  ...  68.7             49.2  Europe & Central Asia\n",
              "136  86589342.0       1.86   0.4  ...  75.4             26.2    East Asia & Pacific\n",
              "137  13114579.0       5.88  13.6  ...  52.0             94.9     Sub-Saharan Africa\n",
              "138  13495462.0       3.85  15.1  ...  49.0             98.3     Sub-Saharan Africa\n",
              "\n",
              "[5 rows x 10 columns]"
            ]
          },
          "metadata": {},
          "execution_count": 6
        }
      ]
    },
    {
      "cell_type": "code",
      "metadata": {
        "colab": {
          "base_uri": "https://localhost:8080/"
        },
        "id": "KHuHomSySrpS",
        "outputId": "b30e0adf-dc15-4704-8a3a-2b8d63208bf8"
      },
      "source": [
        "# check the data information\n",
        "gapminder.info()"
      ],
      "execution_count": null,
      "outputs": [
        {
          "output_type": "stream",
          "name": "stdout",
          "text": [
            "<class 'pandas.core.frame.DataFrame'>\n",
            "RangeIndex: 139 entries, 0 to 138\n",
            "Data columns (total 10 columns):\n",
            " #   Column           Non-Null Count  Dtype  \n",
            "---  ------           --------------  -----  \n",
            " 0   population       139 non-null    float64\n",
            " 1   fertility        139 non-null    float64\n",
            " 2   HIV              139 non-null    float64\n",
            " 3   CO2              139 non-null    float64\n",
            " 4   BMI_male         139 non-null    float64\n",
            " 5   GDP              139 non-null    float64\n",
            " 6   BMI_female       139 non-null    float64\n",
            " 7   life             139 non-null    float64\n",
            " 8   child_mortality  139 non-null    float64\n",
            " 9   Region           139 non-null    object \n",
            "dtypes: float64(9), object(1)\n",
            "memory usage: 11.0+ KB\n"
          ]
        }
      ]
    },
    {
      "cell_type": "code",
      "metadata": {
        "colab": {
          "base_uri": "https://localhost:8080/",
          "height": 296
        },
        "id": "XkbpXoIMSrsp",
        "outputId": "3e052f3f-bb84-40a8-a3cb-d01511fae419"
      },
      "source": [
        "#  Desriptive statistics\n",
        "gapminder.describe()"
      ],
      "execution_count": null,
      "outputs": [
        {
          "output_type": "execute_result",
          "data": {
            "text/html": [
              "<div>\n",
              "<style scoped>\n",
              "    .dataframe tbody tr th:only-of-type {\n",
              "        vertical-align: middle;\n",
              "    }\n",
              "\n",
              "    .dataframe tbody tr th {\n",
              "        vertical-align: top;\n",
              "    }\n",
              "\n",
              "    .dataframe thead th {\n",
              "        text-align: right;\n",
              "    }\n",
              "</style>\n",
              "<table border=\"1\" class=\"dataframe\">\n",
              "  <thead>\n",
              "    <tr style=\"text-align: right;\">\n",
              "      <th></th>\n",
              "      <th>population</th>\n",
              "      <th>fertility</th>\n",
              "      <th>HIV</th>\n",
              "      <th>CO2</th>\n",
              "      <th>BMI_male</th>\n",
              "      <th>GDP</th>\n",
              "      <th>BMI_female</th>\n",
              "      <th>life</th>\n",
              "      <th>child_mortality</th>\n",
              "    </tr>\n",
              "  </thead>\n",
              "  <tbody>\n",
              "    <tr>\n",
              "      <th>count</th>\n",
              "      <td>1.390000e+02</td>\n",
              "      <td>139.000000</td>\n",
              "      <td>139.000000</td>\n",
              "      <td>139.000000</td>\n",
              "      <td>139.000000</td>\n",
              "      <td>139.000000</td>\n",
              "      <td>139.000000</td>\n",
              "      <td>139.000000</td>\n",
              "      <td>139.000000</td>\n",
              "    </tr>\n",
              "    <tr>\n",
              "      <th>mean</th>\n",
              "      <td>3.549977e+07</td>\n",
              "      <td>3.005108</td>\n",
              "      <td>1.915612</td>\n",
              "      <td>4.459874</td>\n",
              "      <td>24.623054</td>\n",
              "      <td>16638.784173</td>\n",
              "      <td>126.701914</td>\n",
              "      <td>69.602878</td>\n",
              "      <td>45.097122</td>\n",
              "    </tr>\n",
              "    <tr>\n",
              "      <th>std</th>\n",
              "      <td>1.095121e+08</td>\n",
              "      <td>1.615354</td>\n",
              "      <td>4.408974</td>\n",
              "      <td>6.268349</td>\n",
              "      <td>2.209368</td>\n",
              "      <td>19207.299083</td>\n",
              "      <td>4.471997</td>\n",
              "      <td>9.122189</td>\n",
              "      <td>45.724667</td>\n",
              "    </tr>\n",
              "    <tr>\n",
              "      <th>min</th>\n",
              "      <td>2.773150e+05</td>\n",
              "      <td>1.280000</td>\n",
              "      <td>0.060000</td>\n",
              "      <td>0.008618</td>\n",
              "      <td>20.397420</td>\n",
              "      <td>588.000000</td>\n",
              "      <td>117.375500</td>\n",
              "      <td>45.200000</td>\n",
              "      <td>2.700000</td>\n",
              "    </tr>\n",
              "    <tr>\n",
              "      <th>25%</th>\n",
              "      <td>3.752776e+06</td>\n",
              "      <td>1.810000</td>\n",
              "      <td>0.100000</td>\n",
              "      <td>0.496190</td>\n",
              "      <td>22.448135</td>\n",
              "      <td>2899.000000</td>\n",
              "      <td>123.232200</td>\n",
              "      <td>62.200000</td>\n",
              "      <td>8.100000</td>\n",
              "    </tr>\n",
              "    <tr>\n",
              "      <th>50%</th>\n",
              "      <td>9.705130e+06</td>\n",
              "      <td>2.410000</td>\n",
              "      <td>0.400000</td>\n",
              "      <td>2.223796</td>\n",
              "      <td>25.156990</td>\n",
              "      <td>9938.000000</td>\n",
              "      <td>126.519600</td>\n",
              "      <td>72.000000</td>\n",
              "      <td>24.000000</td>\n",
              "    </tr>\n",
              "    <tr>\n",
              "      <th>75%</th>\n",
              "      <td>2.791973e+07</td>\n",
              "      <td>4.095000</td>\n",
              "      <td>1.300000</td>\n",
              "      <td>6.589156</td>\n",
              "      <td>26.497575</td>\n",
              "      <td>23278.500000</td>\n",
              "      <td>130.275900</td>\n",
              "      <td>76.850000</td>\n",
              "      <td>74.200000</td>\n",
              "    </tr>\n",
              "    <tr>\n",
              "      <th>max</th>\n",
              "      <td>1.197070e+09</td>\n",
              "      <td>7.590000</td>\n",
              "      <td>25.900000</td>\n",
              "      <td>48.702062</td>\n",
              "      <td>28.456980</td>\n",
              "      <td>126076.000000</td>\n",
              "      <td>135.492000</td>\n",
              "      <td>82.600000</td>\n",
              "      <td>192.000000</td>\n",
              "    </tr>\n",
              "  </tbody>\n",
              "</table>\n",
              "</div>"
            ],
            "text/plain": [
              "         population   fertility  ...        life  child_mortality\n",
              "count  1.390000e+02  139.000000  ...  139.000000       139.000000\n",
              "mean   3.549977e+07    3.005108  ...   69.602878        45.097122\n",
              "std    1.095121e+08    1.615354  ...    9.122189        45.724667\n",
              "min    2.773150e+05    1.280000  ...   45.200000         2.700000\n",
              "25%    3.752776e+06    1.810000  ...   62.200000         8.100000\n",
              "50%    9.705130e+06    2.410000  ...   72.000000        24.000000\n",
              "75%    2.791973e+07    4.095000  ...   76.850000        74.200000\n",
              "max    1.197070e+09    7.590000  ...   82.600000       192.000000\n",
              "\n",
              "[8 rows x 9 columns]"
            ]
          },
          "metadata": {},
          "execution_count": 8
        }
      ]
    },
    {
      "cell_type": "markdown",
      "metadata": {
        "id": "cZkJlsHJTSvE"
      },
      "source": [
        "Select Target and Feature Variable\n",
        "This is a simple linear regression, so we are going to use only two variables. Suppose you wish to predict life expectancy in a given country using one variable such as GDP, fertility rate, or population.\n",
        "\n",
        "Before selecting the condidate input variable, we will plot a heatmap on the correlation matrix of dataset, then we select to highly correlated variable with the target, which will be life"
      ]
    },
    {
      "cell_type": "code",
      "metadata": {
        "colab": {
          "base_uri": "https://localhost:8080/",
          "height": 580
        },
        "id": "5nBjN_1_Srva",
        "outputId": "36ad4599-14d6-4054-f705-958e84906d5c"
      },
      "source": [
        "# Setting the figure size \n",
        "sns.set(rc={'figure.figsize':(10,8)})\n",
        "sns.heatmap(gapminder.corr(), cmap='RdYlBu', square=True)"
      ],
      "execution_count": null,
      "outputs": [
        {
          "output_type": "execute_result",
          "data": {
            "text/plain": [
              "<matplotlib.axes._subplots.AxesSubplot at 0x7f5dccb28990>"
            ]
          },
          "metadata": {},
          "execution_count": 10
        },
        {
          "output_type": "display_data",
          "data": {
            "image/png": "[encoded data removed]",
            "text/plain": [
              "<Figure size 720x576 with 2 Axes>"
            ]
          },
          "metadata": {}
        }
      ]
    },
    {
      "cell_type": "markdown",
      "metadata": {
        "id": "k3P0fPHYTvCR"
      },
      "source": [
        "From the headmap, the highly negatively correlated variable is fertility, which the one you are going to use to build your model. So:\n",
        "\n",
        "Target is: life\n",
        "\n",
        "Input is: fertility"
      ]
    },
    {
      "cell_type": "code",
      "metadata": {
        "colab": {
          "base_uri": "https://localhost:8080/",
          "height": 418
        },
        "id": "Q97s5UXlSryp",
        "outputId": "068585de-dd79-44a9-b8e7-0a03148cf8d1"
      },
      "source": [
        "# Rename life as y\n",
        "y=gapminder.life\n",
        "data_re=gapminder.rename(columns={\"life\":\"y\"},inplace=False)\n",
        "data_re"
      ],
      "execution_count": null,
      "outputs": [
        {
          "output_type": "execute_result",
          "data": {
            "text/html": [
              "<div>\n",
              "<style scoped>\n",
              "    .dataframe tbody tr th:only-of-type {\n",
              "        vertical-align: middle;\n",
              "    }\n",
              "\n",
              "    .dataframe tbody tr th {\n",
              "        vertical-align: top;\n",
              "    }\n",
              "\n",
              "    .dataframe thead th {\n",
              "        text-align: right;\n",
              "    }\n",
              "</style>\n",
              "<table border=\"1\" class=\"dataframe\">\n",
              "  <thead>\n",
              "    <tr style=\"text-align: right;\">\n",
              "      <th></th>\n",
              "      <th>population</th>\n",
              "      <th>fertility</th>\n",
              "      <th>HIV</th>\n",
              "      <th>CO2</th>\n",
              "      <th>BMI_male</th>\n",
              "      <th>GDP</th>\n",
              "      <th>BMI_female</th>\n",
              "      <th>y</th>\n",
              "      <th>child_mortality</th>\n",
              "      <th>Region</th>\n",
              "    </tr>\n",
              "  </thead>\n",
              "  <tbody>\n",
              "    <tr>\n",
              "      <th>0</th>\n",
              "      <td>34811059.0</td>\n",
              "      <td>2.73</td>\n",
              "      <td>0.1</td>\n",
              "      <td>3.328945</td>\n",
              "      <td>24.59620</td>\n",
              "      <td>12314.0</td>\n",
              "      <td>129.9049</td>\n",
              "      <td>75.3</td>\n",
              "      <td>29.5</td>\n",
              "      <td>Middle East &amp; North Africa</td>\n",
              "    </tr>\n",
              "    <tr>\n",
              "      <th>1</th>\n",
              "      <td>19842251.0</td>\n",
              "      <td>6.43</td>\n",
              "      <td>2.0</td>\n",
              "      <td>1.474353</td>\n",
              "      <td>22.25083</td>\n",
              "      <td>7103.0</td>\n",
              "      <td>130.1247</td>\n",
              "      <td>58.3</td>\n",
              "      <td>192.0</td>\n",
              "      <td>Sub-Saharan Africa</td>\n",
              "    </tr>\n",
              "    <tr>\n",
              "      <th>2</th>\n",
              "      <td>40381860.0</td>\n",
              "      <td>2.24</td>\n",
              "      <td>0.5</td>\n",
              "      <td>4.785170</td>\n",
              "      <td>27.50170</td>\n",
              "      <td>14646.0</td>\n",
              "      <td>118.8915</td>\n",
              "      <td>75.5</td>\n",
              "      <td>15.4</td>\n",
              "      <td>America</td>\n",
              "    </tr>\n",
              "    <tr>\n",
              "      <th>3</th>\n",
              "      <td>2975029.0</td>\n",
              "      <td>1.40</td>\n",
              "      <td>0.1</td>\n",
              "      <td>1.804106</td>\n",
              "      <td>25.35542</td>\n",
              "      <td>7383.0</td>\n",
              "      <td>132.8108</td>\n",
              "      <td>72.5</td>\n",
              "      <td>20.0</td>\n",
              "      <td>Europe &amp; Central Asia</td>\n",
              "    </tr>\n",
              "    <tr>\n",
              "      <th>4</th>\n",
              "      <td>21370348.0</td>\n",
              "      <td>1.96</td>\n",
              "      <td>0.1</td>\n",
              "      <td>18.016313</td>\n",
              "      <td>27.56373</td>\n",
              "      <td>41312.0</td>\n",
              "      <td>117.3755</td>\n",
              "      <td>81.5</td>\n",
              "      <td>5.2</td>\n",
              "      <td>East Asia &amp; Pacific</td>\n",
              "    </tr>\n",
              "    <tr>\n",
              "      <th>...</th>\n",
              "      <td>...</td>\n",
              "      <td>...</td>\n",
              "      <td>...</td>\n",
              "      <td>...</td>\n",
              "      <td>...</td>\n",
              "      <td>...</td>\n",
              "      <td>...</td>\n",
              "      <td>...</td>\n",
              "      <td>...</td>\n",
              "      <td>...</td>\n",
              "    </tr>\n",
              "    <tr>\n",
              "      <th>134</th>\n",
              "      <td>3350832.0</td>\n",
              "      <td>2.11</td>\n",
              "      <td>0.5</td>\n",
              "      <td>2.489764</td>\n",
              "      <td>26.39123</td>\n",
              "      <td>15317.0</td>\n",
              "      <td>124.2604</td>\n",
              "      <td>76.0</td>\n",
              "      <td>13.0</td>\n",
              "      <td>America</td>\n",
              "    </tr>\n",
              "    <tr>\n",
              "      <th>135</th>\n",
              "      <td>26952719.0</td>\n",
              "      <td>2.46</td>\n",
              "      <td>0.1</td>\n",
              "      <td>4.476669</td>\n",
              "      <td>25.32054</td>\n",
              "      <td>3733.0</td>\n",
              "      <td>124.3462</td>\n",
              "      <td>68.7</td>\n",
              "      <td>49.2</td>\n",
              "      <td>Europe &amp; Central Asia</td>\n",
              "    </tr>\n",
              "    <tr>\n",
              "      <th>136</th>\n",
              "      <td>86589342.0</td>\n",
              "      <td>1.86</td>\n",
              "      <td>0.4</td>\n",
              "      <td>1.479347</td>\n",
              "      <td>20.91630</td>\n",
              "      <td>4085.0</td>\n",
              "      <td>121.9367</td>\n",
              "      <td>75.4</td>\n",
              "      <td>26.2</td>\n",
              "      <td>East Asia &amp; Pacific</td>\n",
              "    </tr>\n",
              "    <tr>\n",
              "      <th>137</th>\n",
              "      <td>13114579.0</td>\n",
              "      <td>5.88</td>\n",
              "      <td>13.6</td>\n",
              "      <td>0.148982</td>\n",
              "      <td>20.68321</td>\n",
              "      <td>3039.0</td>\n",
              "      <td>132.4493</td>\n",
              "      <td>52.0</td>\n",
              "      <td>94.9</td>\n",
              "      <td>Sub-Saharan Africa</td>\n",
              "    </tr>\n",
              "    <tr>\n",
              "      <th>138</th>\n",
              "      <td>13495462.0</td>\n",
              "      <td>3.85</td>\n",
              "      <td>15.1</td>\n",
              "      <td>0.654323</td>\n",
              "      <td>22.02660</td>\n",
              "      <td>1286.0</td>\n",
              "      <td>131.9745</td>\n",
              "      <td>49.0</td>\n",
              "      <td>98.3</td>\n",
              "      <td>Sub-Saharan Africa</td>\n",
              "    </tr>\n",
              "  </tbody>\n",
              "</table>\n",
              "<p>139 rows × 10 columns</p>\n",
              "</div>"
            ],
            "text/plain": [
              "     population  fertility  ...  child_mortality                      Region\n",
              "0    34811059.0       2.73  ...             29.5  Middle East & North Africa\n",
              "1    19842251.0       6.43  ...            192.0          Sub-Saharan Africa\n",
              "2    40381860.0       2.24  ...             15.4                     America\n",
              "3     2975029.0       1.40  ...             20.0       Europe & Central Asia\n",
              "4    21370348.0       1.96  ...              5.2         East Asia & Pacific\n",
              "..          ...        ...  ...              ...                         ...\n",
              "134   3350832.0       2.11  ...             13.0                     America\n",
              "135  26952719.0       2.46  ...             49.2       Europe & Central Asia\n",
              "136  86589342.0       1.86  ...             26.2         East Asia & Pacific\n",
              "137  13114579.0       5.88  ...             94.9          Sub-Saharan Africa\n",
              "138  13495462.0       3.85  ...             98.3          Sub-Saharan Africa\n",
              "\n",
              "[139 rows x 10 columns]"
            ]
          },
          "metadata": {},
          "execution_count": 21
        }
      ]
    },
    {
      "cell_type": "code",
      "metadata": {
        "colab": {
          "base_uri": "https://localhost:8080/",
          "height": 418
        },
        "id": "m8-Tsy9QT33c",
        "outputId": "fd8d8e1c-5257-495c-dbe9-4b14feb27231"
      },
      "source": [
        "# Rename the input variable as X\n",
        "x=gapminder.fertility\n",
        "data_ren=data_re.rename(columns={\"fertility\":\"x\"},inplace=False)\n",
        "data_ren"
      ],
      "execution_count": null,
      "outputs": [
        {
          "output_type": "execute_result",
          "data": {
            "text/html": [
              "<div>\n",
              "<style scoped>\n",
              "    .dataframe tbody tr th:only-of-type {\n",
              "        vertical-align: middle;\n",
              "    }\n",
              "\n",
              "    .dataframe tbody tr th {\n",
              "        vertical-align: top;\n",
              "    }\n",
              "\n",
              "    .dataframe thead th {\n",
              "        text-align: right;\n",
              "    }\n",
              "</style>\n",
              "<table border=\"1\" class=\"dataframe\">\n",
              "  <thead>\n",
              "    <tr style=\"text-align: right;\">\n",
              "      <th></th>\n",
              "      <th>population</th>\n",
              "      <th>x</th>\n",
              "      <th>HIV</th>\n",
              "      <th>CO2</th>\n",
              "      <th>BMI_male</th>\n",
              "      <th>GDP</th>\n",
              "      <th>BMI_female</th>\n",
              "      <th>y</th>\n",
              "      <th>child_mortality</th>\n",
              "      <th>Region</th>\n",
              "    </tr>\n",
              "  </thead>\n",
              "  <tbody>\n",
              "    <tr>\n",
              "      <th>0</th>\n",
              "      <td>34811059.0</td>\n",
              "      <td>2.73</td>\n",
              "      <td>0.1</td>\n",
              "      <td>3.328945</td>\n",
              "      <td>24.59620</td>\n",
              "      <td>12314.0</td>\n",
              "      <td>129.9049</td>\n",
              "      <td>75.3</td>\n",
              "      <td>29.5</td>\n",
              "      <td>Middle East &amp; North Africa</td>\n",
              "    </tr>\n",
              "    <tr>\n",
              "      <th>1</th>\n",
              "      <td>19842251.0</td>\n",
              "      <td>6.43</td>\n",
              "      <td>2.0</td>\n",
              "      <td>1.474353</td>\n",
              "      <td>22.25083</td>\n",
              "      <td>7103.0</td>\n",
              "      <td>130.1247</td>\n",
              "      <td>58.3</td>\n",
              "      <td>192.0</td>\n",
              "      <td>Sub-Saharan Africa</td>\n",
              "    </tr>\n",
              "    <tr>\n",
              "      <th>2</th>\n",
              "      <td>40381860.0</td>\n",
              "      <td>2.24</td>\n",
              "      <td>0.5</td>\n",
              "      <td>4.785170</td>\n",
              "      <td>27.50170</td>\n",
              "      <td>14646.0</td>\n",
              "      <td>118.8915</td>\n",
              "      <td>75.5</td>\n",
              "      <td>15.4</td>\n",
              "      <td>America</td>\n",
              "    </tr>\n",
              "    <tr>\n",
              "      <th>3</th>\n",
              "      <td>2975029.0</td>\n",
              "      <td>1.40</td>\n",
              "      <td>0.1</td>\n",
              "      <td>1.804106</td>\n",
              "      <td>25.35542</td>\n",
              "      <td>7383.0</td>\n",
              "      <td>132.8108</td>\n",
              "      <td>72.5</td>\n",
              "      <td>20.0</td>\n",
              "      <td>Europe &amp; Central Asia</td>\n",
              "    </tr>\n",
              "    <tr>\n",
              "      <th>4</th>\n",
              "      <td>21370348.0</td>\n",
              "      <td>1.96</td>\n",
              "      <td>0.1</td>\n",
              "      <td>18.016313</td>\n",
              "      <td>27.56373</td>\n",
              "      <td>41312.0</td>\n",
              "      <td>117.3755</td>\n",
              "      <td>81.5</td>\n",
              "      <td>5.2</td>\n",
              "      <td>East Asia &amp; Pacific</td>\n",
              "    </tr>\n",
              "    <tr>\n",
              "      <th>...</th>\n",
              "      <td>...</td>\n",
              "      <td>...</td>\n",
              "      <td>...</td>\n",
              "      <td>...</td>\n",
              "      <td>...</td>\n",
              "      <td>...</td>\n",
              "      <td>...</td>\n",
              "      <td>...</td>\n",
              "      <td>...</td>\n",
              "      <td>...</td>\n",
              "    </tr>\n",
              "    <tr>\n",
              "      <th>134</th>\n",
              "      <td>3350832.0</td>\n",
              "      <td>2.11</td>\n",
              "      <td>0.5</td>\n",
              "      <td>2.489764</td>\n",
              "      <td>26.39123</td>\n",
              "      <td>15317.0</td>\n",
              "      <td>124.2604</td>\n",
              "      <td>76.0</td>\n",
              "      <td>13.0</td>\n",
              "      <td>America</td>\n",
              "    </tr>\n",
              "    <tr>\n",
              "      <th>135</th>\n",
              "      <td>26952719.0</td>\n",
              "      <td>2.46</td>\n",
              "      <td>0.1</td>\n",
              "      <td>4.476669</td>\n",
              "      <td>25.32054</td>\n",
              "      <td>3733.0</td>\n",
              "      <td>124.3462</td>\n",
              "      <td>68.7</td>\n",
              "      <td>49.2</td>\n",
              "      <td>Europe &amp; Central Asia</td>\n",
              "    </tr>\n",
              "    <tr>\n",
              "      <th>136</th>\n",
              "      <td>86589342.0</td>\n",
              "      <td>1.86</td>\n",
              "      <td>0.4</td>\n",
              "      <td>1.479347</td>\n",
              "      <td>20.91630</td>\n",
              "      <td>4085.0</td>\n",
              "      <td>121.9367</td>\n",
              "      <td>75.4</td>\n",
              "      <td>26.2</td>\n",
              "      <td>East Asia &amp; Pacific</td>\n",
              "    </tr>\n",
              "    <tr>\n",
              "      <th>137</th>\n",
              "      <td>13114579.0</td>\n",
              "      <td>5.88</td>\n",
              "      <td>13.6</td>\n",
              "      <td>0.148982</td>\n",
              "      <td>20.68321</td>\n",
              "      <td>3039.0</td>\n",
              "      <td>132.4493</td>\n",
              "      <td>52.0</td>\n",
              "      <td>94.9</td>\n",
              "      <td>Sub-Saharan Africa</td>\n",
              "    </tr>\n",
              "    <tr>\n",
              "      <th>138</th>\n",
              "      <td>13495462.0</td>\n",
              "      <td>3.85</td>\n",
              "      <td>15.1</td>\n",
              "      <td>0.654323</td>\n",
              "      <td>22.02660</td>\n",
              "      <td>1286.0</td>\n",
              "      <td>131.9745</td>\n",
              "      <td>49.0</td>\n",
              "      <td>98.3</td>\n",
              "      <td>Sub-Saharan Africa</td>\n",
              "    </tr>\n",
              "  </tbody>\n",
              "</table>\n",
              "<p>139 rows × 10 columns</p>\n",
              "</div>"
            ],
            "text/plain": [
              "     population     x   HIV  ...     y  child_mortality                      Region\n",
              "0    34811059.0  2.73   0.1  ...  75.3             29.5  Middle East & North Africa\n",
              "1    19842251.0  6.43   2.0  ...  58.3            192.0          Sub-Saharan Africa\n",
              "2    40381860.0  2.24   0.5  ...  75.5             15.4                     America\n",
              "3     2975029.0  1.40   0.1  ...  72.5             20.0       Europe & Central Asia\n",
              "4    21370348.0  1.96   0.1  ...  81.5              5.2         East Asia & Pacific\n",
              "..          ...   ...   ...  ...   ...              ...                         ...\n",
              "134   3350832.0  2.11   0.5  ...  76.0             13.0                     America\n",
              "135  26952719.0  2.46   0.1  ...  68.7             49.2       Europe & Central Asia\n",
              "136  86589342.0  1.86   0.4  ...  75.4             26.2         East Asia & Pacific\n",
              "137  13114579.0  5.88  13.6  ...  52.0             94.9          Sub-Saharan Africa\n",
              "138  13495462.0  3.85  15.1  ...  49.0             98.3          Sub-Saharan Africa\n",
              "\n",
              "[139 rows x 10 columns]"
            ]
          },
          "metadata": {},
          "execution_count": 24
        }
      ]
    },
    {
      "cell_type": "code",
      "metadata": {
        "colab": {
          "base_uri": "https://localhost:8080/"
        },
        "id": "xqt4zdpzT-k8",
        "outputId": "3502a61c-927b-467b-dff4-e3346765dba4"
      },
      "source": [
        "# Check the shape of y\n",
        "print(\"The shape of the target variable is :\" ,y.shape )"
      ],
      "execution_count": null,
      "outputs": [
        {
          "output_type": "stream",
          "name": "stdout",
          "text": [
            "The shape of the target variable is : (139,)\n"
          ]
        }
      ]
    },
    {
      "cell_type": "code",
      "metadata": {
        "colab": {
          "base_uri": "https://localhost:8080/"
        },
        "id": "TEOce_QtT-n6",
        "outputId": "35207b92-6ce5-428a-d33d-b3a004ef4857"
      },
      "source": [
        "# Check the shape of X\n",
        "print(\"The shape of the input variable is :\",x.shape )"
      ],
      "execution_count": null,
      "outputs": [
        {
          "output_type": "stream",
          "name": "stdout",
          "text": [
            "The shape of the input variable is : (139,)\n"
          ]
        }
      ]
    },
    {
      "cell_type": "code",
      "metadata": {
        "id": "52R9QbIlT-q9"
      },
      "source": [
        "# reshape the target variable y\n",
        "y_reshape=np.array(y).reshape(-1, 1)"
      ],
      "execution_count": null,
      "outputs": []
    },
    {
      "cell_type": "code",
      "metadata": {
        "id": "oM7A4iU-T-td"
      },
      "source": [
        "# reshape the input variable X\n",
        "x_reshape=np.array(x).reshape(-1,1)"
      ],
      "execution_count": null,
      "outputs": []
    },
    {
      "cell_type": "code",
      "metadata": {
        "colab": {
          "base_uri": "https://localhost:8080/"
        },
        "id": "lk0CCyx1T-v2",
        "outputId": "ef8ca0ed-a7a3-4f02-f7a0-4f844fcdb1dc"
      },
      "source": [
        "# print the new shape y\n",
        "x_reshape.shape"
      ],
      "execution_count": null,
      "outputs": [
        {
          "output_type": "execute_result",
          "data": {
            "text/plain": [
              "(139, 1)"
            ]
          },
          "metadata": {},
          "execution_count": 28
        }
      ]
    },
    {
      "cell_type": "code",
      "metadata": {
        "colab": {
          "base_uri": "https://localhost:8080/"
        },
        "id": "arC0dvYtT-yo",
        "outputId": "13a41d7f-f711-4f8e-d3ef-f17276da99a4"
      },
      "source": [
        "# print the new shape of X\n",
        "y_reshape.shape"
      ],
      "execution_count": null,
      "outputs": [
        {
          "output_type": "execute_result",
          "data": {
            "text/plain": [
              "(139, 1)"
            ]
          },
          "metadata": {},
          "execution_count": 29
        }
      ]
    },
    {
      "cell_type": "code",
      "metadata": {
        "colab": {
          "base_uri": "https://localhost:8080/",
          "height": 503
        },
        "id": "G3MdJMUzUjvt",
        "outputId": "83695d9a-e7bd-4518-ce27-0e6aeac1540f"
      },
      "source": [
        "# plot scatter plot \n",
        "plt.scatter(x = gapminder['fertility'], y = gapminder['life']) "
      ],
      "execution_count": null,
      "outputs": [
        {
          "output_type": "execute_result",
          "data": {
            "text/plain": [
              "<matplotlib.collections.PathCollection at 0x7f5dc11f2590>"
            ]
          },
          "metadata": {},
          "execution_count": 30
        },
        {
          "output_type": "display_data",
          "data": {
            "image/png": "[encoded data removed]",
            "text/plain": [
              "<Figure size 720x576 with 1 Axes>"
            ]
          },
          "metadata": {}
        }
      ]
    },
    {
      "cell_type": "code",
      "metadata": {
        "colab": {
          "base_uri": "https://localhost:8080/",
          "height": 383
        },
        "id": "wOU3GazIUo8u",
        "outputId": "745c18ff-a167-443b-9b39-ee772d513c94"
      },
      "source": [
        "# plot linear regression plot.\n",
        "sns.lmplot(x= 'fertility', y = 'life', data = gapminder)"
      ],
      "execution_count": null,
      "outputs": [
        {
          "output_type": "execute_result",
          "data": {
            "text/plain": [
              "<seaborn.axisgrid.FacetGrid at 0x7f5dc12a4090>"
            ]
          },
          "metadata": {},
          "execution_count": 31
        },
        {
          "output_type": "display_data",
          "data": {
            "image/png": "[encoded data removed]",
            "text/plain": [
              "<Figure size 360x360 with 1 Axes>"
            ]
          },
          "metadata": {}
        }
      ]
    },
    {
      "cell_type": "markdown",
      "metadata": {
        "id": "vXof7RHBUy9k"
      },
      "source": [
        "Building a Linear Regression Model"
      ]
    },
    {
      "cell_type": "code",
      "metadata": {
        "id": "HTpzx4gDUzJA"
      },
      "source": [
        "# Create lm object\n",
        "simple_reg = linear_model.LinearRegression()\n",
        "lm = LinearRegression()"
      ],
      "execution_count": null,
      "outputs": []
    },
    {
      "cell_type": "code",
      "metadata": {
        "id": "KxnoyhJtU9In"
      },
      "source": [
        "# fit the linear model\n",
        "reg=lm.fit(x_reshape,y_reshape)"
      ],
      "execution_count": null,
      "outputs": []
    },
    {
      "cell_type": "code",
      "metadata": {
        "colab": {
          "base_uri": "https://localhost:8080/"
        },
        "id": "0qPZ4QfcU9Lm",
        "outputId": "9ef38fef-5c73-477d-fdc1-6c27a23e7dab"
      },
      "source": [
        "# Print the intercept \n",
        "print(\"The model intercept is: \",reg.intercept_)\n",
        "# Print the coef \n",
        "print(\"The model parameter is: \",reg.coef_)\n"
      ],
      "execution_count": null,
      "outputs": [
        {
          "output_type": "stream",
          "name": "stdout",
          "text": [
            "The model intercept is:  [82.95721362]\n",
            "The model parameter is:  [[-4.44387899]]\n"
          ]
        }
      ]
    },
    {
      "cell_type": "code",
      "metadata": {
        "colab": {
          "base_uri": "https://localhost:8080/"
        },
        "id": "zo3RDXIMU9PG",
        "outputId": "a1833312-16e6-40ae-a5ea-a6ee5f2cec1c"
      },
      "source": [
        "# Print the Godness-of-fit metric \n",
        "print(\"The coefficient of determination is:{:0.3f} \".format(lm.score(x_reshape, y_reshape)))"
      ],
      "execution_count": null,
      "outputs": [
        {
          "output_type": "stream",
          "name": "stdout",
          "text": [
            "The coefficient of determination is:0.619 \n"
          ]
        }
      ]
    },
    {
      "cell_type": "code",
      "metadata": {
        "id": "YJewiurdVJ_e"
      },
      "source": [
        "# Predict on the data\n",
        "y_pred=reg.predict(x_reshape)"
      ],
      "execution_count": null,
      "outputs": []
    },
    {
      "cell_type": "code",
      "metadata": {
        "colab": {
          "base_uri": "https://localhost:8080/",
          "height": 485
        },
        "id": "LnKdHU-ZVKKS",
        "outputId": "db3817c0-5e4a-4349-be8a-9f37c47fed4d"
      },
      "source": [
        "# Plot the fitted line on top of the scatter plot\n",
        "plt.scatter(x, y, color='blue', alpha=0.5)\n",
        "plt.plot(x_reshape, y_pred, color='red', linewidth=3)\n",
        "plt.show()"
      ],
      "execution_count": null,
      "outputs": [
        {
          "output_type": "display_data",
          "data": {
            "image/png": "[encoded data removed]",
            "text/plain": [
              "<Figure size 720x576 with 1 Axes>"
            ]
          },
          "metadata": {}
        }
      ]
    }
  ]
}